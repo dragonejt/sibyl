{
 "cells": [
  {
   "cell_type": "markdown",
   "id": "f7e4725a",
   "metadata": {},
   "source": [
    "# sibyl-insights"
   ]
  },
  {
   "cell_type": "markdown",
   "id": "665c3190",
   "metadata": {},
   "source": [
    "## Setup"
   ]
  },
  {
   "cell_type": "code",
   "execution_count": 7,
   "id": "e2660d8d",
   "metadata": {},
   "outputs": [],
   "source": [
    "from os import getenv\n",
    "import pyarrow as pa\n",
    "import polars as pl\n",
    "from foundry_sdk import FoundryClient, UserTokenAuth"
   ]
  },
  {
   "cell_type": "code",
   "execution_count": 8,
   "id": "95e783af",
   "metadata": {},
   "outputs": [],
   "source": [
    "client = FoundryClient(\n",
    "    auth=UserTokenAuth(getenv(\"FOUNDRY_TOKEN\")),\n",
    "    hostname=getenv(\"FOUNDRY_HOSTNAME\", \"dragonejt.usw-16.palantirfoundry.com\"),\n",
    ")"
   ]
  },
  {
   "cell_type": "markdown",
   "id": "9ada69e6",
   "metadata": {},
   "source": [
    "## Datasets"
   ]
  },
  {
   "cell_type": "code",
   "execution_count": 9,
   "id": "bac0613c",
   "metadata": {},
   "outputs": [
    {
     "data": {
      "text/html": [
       "<div><style>\n",
       ".dataframe > thead > tr,\n",
       ".dataframe > tbody > tr {\n",
       "  text-align: right;\n",
       "  white-space: pre-wrap;\n",
       "}\n",
       "</style>\n",
       "<small>shape: (5, 10)</small><table border=\"1\" class=\"dataframe\"><thead><tr><th>id</th><th>messages</th><th>toxicity</th><th>severe_toxicity</th><th>identity_attack</th><th>insult</th><th>threat</th><th>profanity</th><th>sexually_explicit</th><th>platform_id</th></tr><tr><td>i64</td><td>i32</td><td>f64</td><td>f64</td><td>f64</td><td>f64</td><td>f64</td><td>f64</td><td>f64</td><td>i32</td></tr></thead><tbody><tr><td>13</td><td>0</td><td>0.5</td><td>0.5</td><td>0.5</td><td>0.5</td><td>0.5</td><td>0.5</td><td>0.5</td><td>2</td></tr><tr><td>12</td><td>0</td><td>0.5</td><td>0.5</td><td>0.5</td><td>0.5</td><td>0.5</td><td>0.5</td><td>0.5</td><td>2</td></tr><tr><td>18</td><td>0</td><td>0.5</td><td>0.5</td><td>0.5</td><td>0.5</td><td>0.5</td><td>0.5</td><td>0.5</td><td>2</td></tr><tr><td>10</td><td>0</td><td>0.5</td><td>0.5</td><td>0.5</td><td>0.5</td><td>0.5</td><td>0.5</td><td>0.5</td><td>2</td></tr><tr><td>27</td><td>0</td><td>0.5</td><td>0.5</td><td>0.5</td><td>0.5</td><td>0.5</td><td>0.5</td><td>0.5</td><td>2</td></tr></tbody></table></div>"
      ],
      "text/plain": [
       "shape: (5, 10)\n",
       "┌─────┬──────────┬──────────┬───────────────┬───┬────────┬───────────┬───────────────┬─────────────┐\n",
       "│ id  ┆ messages ┆ toxicity ┆ severe_toxici ┆ … ┆ threat ┆ profanity ┆ sexually_expl ┆ platform_id │\n",
       "│ --- ┆ ---      ┆ ---      ┆ ty            ┆   ┆ ---    ┆ ---       ┆ icit          ┆ ---         │\n",
       "│ i64 ┆ i32      ┆ f64      ┆ ---           ┆   ┆ f64    ┆ f64       ┆ ---           ┆ i32         │\n",
       "│     ┆          ┆          ┆ f64           ┆   ┆        ┆           ┆ f64           ┆             │\n",
       "╞═════╪══════════╪══════════╪═══════════════╪═══╪════════╪═══════════╪═══════════════╪═════════════╡\n",
       "│ 13  ┆ 0        ┆ 0.5      ┆ 0.5           ┆ … ┆ 0.5    ┆ 0.5       ┆ 0.5           ┆ 2           │\n",
       "│ 12  ┆ 0        ┆ 0.5      ┆ 0.5           ┆ … ┆ 0.5    ┆ 0.5       ┆ 0.5           ┆ 2           │\n",
       "│ 18  ┆ 0        ┆ 0.5      ┆ 0.5           ┆ … ┆ 0.5    ┆ 0.5       ┆ 0.5           ┆ 2           │\n",
       "│ 10  ┆ 0        ┆ 0.5      ┆ 0.5           ┆ … ┆ 0.5    ┆ 0.5       ┆ 0.5           ┆ 2           │\n",
       "│ 27  ┆ 0        ┆ 0.5      ┆ 0.5           ┆ … ┆ 0.5    ┆ 0.5       ┆ 0.5           ┆ 2           │\n",
       "└─────┴──────────┴──────────┴───────────────┴───┴────────┴───────────┴───────────────┴─────────────┘"
      ]
     },
     "execution_count": 9,
     "metadata": {},
     "output_type": "execute_result"
    }
   ],
   "source": [
    "psychopass_userpsychopass_raw = client.datasets.Dataset.read_table(dataset_rid=\"ri.foundry.main.dataset.99b58486-6064-4aac-8faf-08630eb925be\", format=\"ARROW\")\n",
    "psychopass_userpsychopass = pl.from_arrow(pa.ipc.open_stream(psychopass_userpsychopass_raw).read_all())\n",
    "psychopass_userpsychopass = psychopass_userpsychopass.drop(\"user_id\").sample(fraction=1, shuffle=True)\n",
    "\n",
    "\n",
    "psychopass_userpsychopass.head()"
   ]
  }
 ],
 "metadata": {
  "kernelspec": {
   "display_name": "sibyl",
   "language": "python",
   "name": "python3"
  },
  "language_info": {
   "codemirror_mode": {
    "name": "ipython",
    "version": 3
   },
   "file_extension": ".py",
   "mimetype": "text/x-python",
   "name": "python",
   "nbconvert_exporter": "python",
   "pygments_lexer": "ipython3",
   "version": "3.13.0"
  }
 },
 "nbformat": 4,
 "nbformat_minor": 5
}
