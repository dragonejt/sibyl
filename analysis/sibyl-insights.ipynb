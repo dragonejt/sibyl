{
 "cells": [
  {
   "cell_type": "markdown",
   "id": "f7e4725a",
   "metadata": {},
   "source": [
    "# sibyl-insights"
   ]
  },
  {
   "cell_type": "markdown",
   "id": "665c3190",
   "metadata": {},
   "source": [
    "## Setup"
   ]
  },
  {
   "cell_type": "code",
   "execution_count": 7,
   "id": "e2660d8d",
   "metadata": {},
   "outputs": [],
   "source": [
    "from os import getenv\n",
    "import pyarrow as pa\n",
    "import polars as pl\n",
    "from foundry_sdk import FoundryClient, UserTokenAuth"
   ]
  },
  {
   "cell_type": "code",
   "execution_count": 8,
   "id": "95e783af",
   "metadata": {},
   "outputs": [],
   "source": [
    "client = FoundryClient(\n",
    "    auth=UserTokenAuth(getenv(\"FOUNDRY_TOKEN\")),\n",
    "    hostname=getenv(\"FOUNDRY_HOSTNAME\", \"dragonejt.usw-16.palantirfoundry.com\"),\n",
    ")"
   ]
  },
  {
   "cell_type": "markdown",
   "id": "9ada69e6",
   "metadata": {},
   "source": [
    "## Datasets"
   ]
  },
  {
   "cell_type": "code",
   "execution_count": 9,
   "id": "bac0613c",
   "metadata": {},
   "outputs": [
    {
     "data": {
      "text/html": [
       "<div><style>\n",
       ".dataframe > thead > tr,\n",
       ".dataframe > tbody > tr {\n",
       "  text-align: right;\n",
       "  white-space: pre-wrap;\n",
       "}\n",
       "</style>\n",
       "<small>shape: (5, 4)</small><table border=\"1\" class=\"dataframe\"><thead><tr><th>id</th><th>name</th><th>content_type_id</th><th>codename</th></tr><tr><td>i32</td><td>str</td><td>i32</td><td>str</td></tr></thead><tbody><tr><td>1</td><td>&quot;Can add log entry&quot;</td><td>1</td><td>&quot;add_logentry&quot;</td></tr><tr><td>2</td><td>&quot;Can change log entry&quot;</td><td>1</td><td>&quot;change_logentry&quot;</td></tr><tr><td>3</td><td>&quot;Can delete log entry&quot;</td><td>1</td><td>&quot;delete_logentry&quot;</td></tr><tr><td>4</td><td>&quot;Can view log entry&quot;</td><td>1</td><td>&quot;view_logentry&quot;</td></tr><tr><td>5</td><td>&quot;Can add permission&quot;</td><td>2</td><td>&quot;add_permission&quot;</td></tr></tbody></table></div>"
      ],
      "text/plain": [
       "shape: (5, 4)\n",
       "┌─────┬──────────────────────┬─────────────────┬─────────────────┐\n",
       "│ id  ┆ name                 ┆ content_type_id ┆ codename        │\n",
       "│ --- ┆ ---                  ┆ ---             ┆ ---             │\n",
       "│ i32 ┆ str                  ┆ i32             ┆ str             │\n",
       "╞═════╪══════════════════════╪═════════════════╪═════════════════╡\n",
       "│ 1   ┆ Can add log entry    ┆ 1               ┆ add_logentry    │\n",
       "│ 2   ┆ Can change log entry ┆ 1               ┆ change_logentry │\n",
       "│ 3   ┆ Can delete log entry ┆ 1               ┆ delete_logentry │\n",
       "│ 4   ┆ Can view log entry   ┆ 1               ┆ view_logentry   │\n",
       "│ 5   ┆ Can add permission   ┆ 2               ┆ add_permission  │\n",
       "└─────┴──────────────────────┴─────────────────┴─────────────────┘"
      ]
     },
     "execution_count": 9,
     "metadata": {},
     "output_type": "execute_result"
    }
   ],
   "source": [
    "auth_permission_raw = client.datasets.Dataset.read_table(dataset_rid=\"ri.foundry.main.dataset.e8ec9271-13c5-4a3e-b95a-bd25ea1c4611\", format=\"ARROW\")\n",
    "auth_permission = pl.from_arrow(pa.ipc.open_stream(auth_permission_raw).read_all())\n",
    "\n",
    "auth_permission.head()"
   ]
  }
 ],
 "metadata": {
  "kernelspec": {
   "display_name": "sibyl",
   "language": "python",
   "name": "python3"
  },
  "language_info": {
   "codemirror_mode": {
    "name": "ipython",
    "version": 3
   },
   "file_extension": ".py",
   "mimetype": "text/x-python",
   "name": "python",
   "nbconvert_exporter": "python",
   "pygments_lexer": "ipython3",
   "version": "3.13.0"
  }
 },
 "nbformat": 4,
 "nbformat_minor": 5
}
